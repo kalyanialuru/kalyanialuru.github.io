{
 "cells": [
  {
   "cell_type": "markdown",
   "id": "f9edcf0b",
   "metadata": {},
   "source": [
    "# <a name='link1'>**E-news Express Project**</a>"
   ]
  },
  {
   "cell_type": "markdown",
   "id": "020247ea",
   "metadata": {},
   "source": [
    "## Problem Statement: \n",
    "\n",
    "An online news portal aims to expand its business by acquiring new subscribers. Every visitor to the website takes certain actions based on their interest. The company plans to analyze these interests and wants to determine whether a new feature will be effective or not. Companies often analyze users' responses to two variants of a product to decide which of the two variants is more effective. This experimental technique is known as a/b testing that is used to determine whether a new feature attracts users based on a chosen metric.\n",
    "\n",
    "Suppose you are hired as a Data Scientist in E-news Express. The design team of the company has created a new landing page. You have been assigned the task to decide whether the new landing page is more effective to gather new subscribers. Suppose you randomly selected 100 users and divided them equally into two groups. The old landing page is served to the first group (control group) and the new landing page is served to the second group (treatment group). Various data about the customers in both groups are collected in 'abtest.csv'. Perform the statistical analysis to answer the following questions using the collected data.\n",
    "\n",
    "1. Explore the dataset and extract insights using Exploratory Data Analysis.\n",
    "2. Do the users spend more time on the new landing page than the old landing page?\n",
    "3. Is the conversion rate (the proportion of users who visit the landing page and get converted) for the new page greater than the conversion rate for the old page?\n",
    "4. Does the converted status depend on the preferred language?\n",
    "5. Is the mean time spent on the new page same for the different language users?\n",
    "\n",
    "**Considering a significance level of 0.05 for all tests."
   ]
  },
  {
   "cell_type": "markdown",
   "id": "3d8b9a5a",
   "metadata": {},
   "source": [
    "## Data Dictionary\n",
    "1. user_id - This represents the user ID of the person visiting the website.\n",
    "2. group - This represents whether the user belongs to the first group (control) or the second group (treatment).\n",
    "3. landing_page - This represents whether the landing page is new or old.\n",
    "4. time_spent_on_the_page - This represents the time (in minutes) spent by the user on the landing page.\n",
    "5. converted - This represents whether the user gets converted to a subscriber of the news portal or not.\n",
    "6. language_preferred - This represents the language chosen by the user to view the landing page."
   ]
  },
  {
   "cell_type": "markdown",
   "id": "d3daca37",
   "metadata": {},
   "source": [
    "### Importing necessary libraries"
   ]
  },
  {
   "cell_type": "code",
   "execution_count": 1,
   "id": "cf90718f",
   "metadata": {},
   "outputs": [],
   "source": [
    "# import the important packages\n",
    "import pandas as pd  # library used for data manipulation and analysis\n",
    "import numpy as np  # library used for working with arrays\n",
    "import matplotlib.pyplot as plt  # library for plots and visualizations\n",
    "import seaborn as sns  # library for visualizations\n",
    "\n",
    "%matplotlib inline\n",
    "import warnings\n",
    "warnings.filterwarnings('ignore')\n",
    "\n",
    "import scipy.stats as stats  # library with a large number of probability distributions as well as a growing library of statistical functions\n"
   ]
  },
  {
   "cell_type": "code",
   "execution_count": 2,
   "id": "c0f1fc27",
   "metadata": {},
   "outputs": [
    {
     "data": {
      "text/html": [
       "<div>\n",
       "<style scoped>\n",
       "    .dataframe tbody tr th:only-of-type {\n",
       "        vertical-align: middle;\n",
       "    }\n",
       "\n",
       "    .dataframe tbody tr th {\n",
       "        vertical-align: top;\n",
       "    }\n",
       "\n",
       "    .dataframe thead th {\n",
       "        text-align: right;\n",
       "    }\n",
       "</style>\n",
       "<table border=\"1\" class=\"dataframe\">\n",
       "  <thead>\n",
       "    <tr style=\"text-align: right;\">\n",
       "      <th></th>\n",
       "      <th>user_id</th>\n",
       "      <th>group</th>\n",
       "      <th>landing_page</th>\n",
       "      <th>time_spent_on_the_page</th>\n",
       "      <th>converted</th>\n",
       "      <th>language_preferred</th>\n",
       "    </tr>\n",
       "  </thead>\n",
       "  <tbody>\n",
       "    <tr>\n",
       "      <th>0</th>\n",
       "      <td>546592</td>\n",
       "      <td>control</td>\n",
       "      <td>old</td>\n",
       "      <td>3.48</td>\n",
       "      <td>no</td>\n",
       "      <td>Spanish</td>\n",
       "    </tr>\n",
       "    <tr>\n",
       "      <th>1</th>\n",
       "      <td>546468</td>\n",
       "      <td>treatment</td>\n",
       "      <td>new</td>\n",
       "      <td>7.13</td>\n",
       "      <td>yes</td>\n",
       "      <td>English</td>\n",
       "    </tr>\n",
       "    <tr>\n",
       "      <th>2</th>\n",
       "      <td>546462</td>\n",
       "      <td>treatment</td>\n",
       "      <td>new</td>\n",
       "      <td>4.40</td>\n",
       "      <td>no</td>\n",
       "      <td>Spanish</td>\n",
       "    </tr>\n",
       "    <tr>\n",
       "      <th>3</th>\n",
       "      <td>546567</td>\n",
       "      <td>control</td>\n",
       "      <td>old</td>\n",
       "      <td>3.02</td>\n",
       "      <td>no</td>\n",
       "      <td>French</td>\n",
       "    </tr>\n",
       "    <tr>\n",
       "      <th>4</th>\n",
       "      <td>546459</td>\n",
       "      <td>treatment</td>\n",
       "      <td>new</td>\n",
       "      <td>4.75</td>\n",
       "      <td>yes</td>\n",
       "      <td>Spanish</td>\n",
       "    </tr>\n",
       "  </tbody>\n",
       "</table>\n",
       "</div>"
      ],
      "text/plain": [
       "   user_id      group landing_page  time_spent_on_the_page converted  \\\n",
       "0   546592    control          old                    3.48        no   \n",
       "1   546468  treatment          new                    7.13       yes   \n",
       "2   546462  treatment          new                    4.40        no   \n",
       "3   546567    control          old                    3.02        no   \n",
       "4   546459  treatment          new                    4.75       yes   \n",
       "\n",
       "  language_preferred  \n",
       "0            Spanish  \n",
       "1            English  \n",
       "2            Spanish  \n",
       "3             French  \n",
       "4            Spanish  "
      ]
     },
     "execution_count": 2,
     "metadata": {},
     "output_type": "execute_result"
    }
   ],
   "source": [
    "#Loading the sample data set and verifying data\n",
    "data=pd.read_csv('abtest.csv')\n",
    "data.head()"
   ]
  },
  {
   "cell_type": "code",
   "execution_count": 3,
   "id": "28c631a6",
   "metadata": {},
   "outputs": [
    {
     "data": {
      "text/html": [
       "<div>\n",
       "<style scoped>\n",
       "    .dataframe tbody tr th:only-of-type {\n",
       "        vertical-align: middle;\n",
       "    }\n",
       "\n",
       "    .dataframe tbody tr th {\n",
       "        vertical-align: top;\n",
       "    }\n",
       "\n",
       "    .dataframe thead th {\n",
       "        text-align: right;\n",
       "    }\n",
       "</style>\n",
       "<table border=\"1\" class=\"dataframe\">\n",
       "  <thead>\n",
       "    <tr style=\"text-align: right;\">\n",
       "      <th></th>\n",
       "      <th>user_id</th>\n",
       "      <th>group</th>\n",
       "      <th>landing_page</th>\n",
       "      <th>time_spent_on_the_page</th>\n",
       "      <th>converted</th>\n",
       "      <th>language_preferred</th>\n",
       "    </tr>\n",
       "  </thead>\n",
       "  <tbody>\n",
       "    <tr>\n",
       "      <th>0</th>\n",
       "      <td>546592</td>\n",
       "      <td>control</td>\n",
       "      <td>old</td>\n",
       "      <td>3.48</td>\n",
       "      <td>no</td>\n",
       "      <td>Spanish</td>\n",
       "    </tr>\n",
       "    <tr>\n",
       "      <th>1</th>\n",
       "      <td>546468</td>\n",
       "      <td>treatment</td>\n",
       "      <td>new</td>\n",
       "      <td>7.13</td>\n",
       "      <td>yes</td>\n",
       "      <td>English</td>\n",
       "    </tr>\n",
       "    <tr>\n",
       "      <th>2</th>\n",
       "      <td>546462</td>\n",
       "      <td>treatment</td>\n",
       "      <td>new</td>\n",
       "      <td>4.40</td>\n",
       "      <td>no</td>\n",
       "      <td>Spanish</td>\n",
       "    </tr>\n",
       "    <tr>\n",
       "      <th>3</th>\n",
       "      <td>546567</td>\n",
       "      <td>control</td>\n",
       "      <td>old</td>\n",
       "      <td>3.02</td>\n",
       "      <td>no</td>\n",
       "      <td>French</td>\n",
       "    </tr>\n",
       "    <tr>\n",
       "      <th>4</th>\n",
       "      <td>546459</td>\n",
       "      <td>treatment</td>\n",
       "      <td>new</td>\n",
       "      <td>4.75</td>\n",
       "      <td>yes</td>\n",
       "      <td>Spanish</td>\n",
       "    </tr>\n",
       "  </tbody>\n",
       "</table>\n",
       "</div>"
      ],
      "text/plain": [
       "   user_id      group landing_page  time_spent_on_the_page converted  \\\n",
       "0   546592    control          old                    3.48        no   \n",
       "1   546468  treatment          new                    7.13       yes   \n",
       "2   546462  treatment          new                    4.40        no   \n",
       "3   546567    control          old                    3.02        no   \n",
       "4   546459  treatment          new                    4.75       yes   \n",
       "\n",
       "  language_preferred  \n",
       "0            Spanish  \n",
       "1            English  \n",
       "2            Spanish  \n",
       "3             French  \n",
       "4            Spanish  "
      ]
     },
     "execution_count": 3,
     "metadata": {},
     "output_type": "execute_result"
    }
   ],
   "source": [
    "#taking a copy of the dataframe so as to retain the original one\n",
    "df=data.copy()\n",
    "df.head()"
   ]
  },
  {
   "cell_type": "code",
   "execution_count": 4,
   "id": "6ef8f22c",
   "metadata": {},
   "outputs": [
    {
     "data": {
      "text/plain": [
       "(100, 6)"
      ]
     },
     "execution_count": 4,
     "metadata": {},
     "output_type": "execute_result"
    }
   ],
   "source": [
    "#Check the shape of the dataset\n",
    "df.shape"
   ]
  },
  {
   "cell_type": "markdown",
   "id": "e1b3c2c0",
   "metadata": {},
   "source": [
    "So there are 100 observations in the dataset and 6 columns."
   ]
  },
  {
   "cell_type": "code",
   "execution_count": 5,
   "id": "31852037",
   "metadata": {},
   "outputs": [
    {
     "name": "stdout",
     "output_type": "stream",
     "text": [
      "<class 'pandas.core.frame.DataFrame'>\n",
      "RangeIndex: 100 entries, 0 to 99\n",
      "Data columns (total 6 columns):\n",
      " #   Column                  Non-Null Count  Dtype  \n",
      "---  ------                  --------------  -----  \n",
      " 0   user_id                 100 non-null    int64  \n",
      " 1   group                   100 non-null    object \n",
      " 2   landing_page            100 non-null    object \n",
      " 3   time_spent_on_the_page  100 non-null    float64\n",
      " 4   converted               100 non-null    object \n",
      " 5   language_preferred      100 non-null    object \n",
      "dtypes: float64(1), int64(1), object(4)\n",
      "memory usage: 4.8+ KB\n"
     ]
    }
   ],
   "source": [
    "#Check info on the columns in dataset\n",
    "df.info()"
   ]
  },
  {
   "cell_type": "markdown",
   "id": "9ab1f1a4",
   "metadata": {},
   "source": [
    "There are 6 columns of which 4 are string type, 1 is integer and 1 float. All columns has non-null data, so no missing values."
   ]
  },
  {
   "cell_type": "code",
   "execution_count": 6,
   "id": "bea9e497",
   "metadata": {},
   "outputs": [
    {
     "data": {
      "text/html": [
       "<div>\n",
       "<style scoped>\n",
       "    .dataframe tbody tr th:only-of-type {\n",
       "        vertical-align: middle;\n",
       "    }\n",
       "\n",
       "    .dataframe tbody tr th {\n",
       "        vertical-align: top;\n",
       "    }\n",
       "\n",
       "    .dataframe thead th {\n",
       "        text-align: right;\n",
       "    }\n",
       "</style>\n",
       "<table border=\"1\" class=\"dataframe\">\n",
       "  <thead>\n",
       "    <tr style=\"text-align: right;\">\n",
       "      <th></th>\n",
       "      <th>count</th>\n",
       "      <th>mean</th>\n",
       "      <th>std</th>\n",
       "      <th>min</th>\n",
       "      <th>25%</th>\n",
       "      <th>50%</th>\n",
       "      <th>75%</th>\n",
       "      <th>max</th>\n",
       "    </tr>\n",
       "  </thead>\n",
       "  <tbody>\n",
       "    <tr>\n",
       "      <th>user_id</th>\n",
       "      <td>100.0</td>\n",
       "      <td>546517.0000</td>\n",
       "      <td>52.295779</td>\n",
       "      <td>546443.00</td>\n",
       "      <td>546467.75</td>\n",
       "      <td>546492.500</td>\n",
       "      <td>546567.2500</td>\n",
       "      <td>546592.00</td>\n",
       "    </tr>\n",
       "    <tr>\n",
       "      <th>time_spent_on_the_page</th>\n",
       "      <td>100.0</td>\n",
       "      <td>5.3778</td>\n",
       "      <td>2.378166</td>\n",
       "      <td>0.19</td>\n",
       "      <td>3.88</td>\n",
       "      <td>5.415</td>\n",
       "      <td>7.0225</td>\n",
       "      <td>10.71</td>\n",
       "    </tr>\n",
       "  </tbody>\n",
       "</table>\n",
       "</div>"
      ],
      "text/plain": [
       "                        count         mean        std        min        25%  \\\n",
       "user_id                 100.0  546517.0000  52.295779  546443.00  546467.75   \n",
       "time_spent_on_the_page  100.0       5.3778   2.378166       0.19       3.88   \n",
       "\n",
       "                               50%          75%        max  \n",
       "user_id                 546492.500  546567.2500  546592.00  \n",
       "time_spent_on_the_page       5.415       7.0225      10.71  "
      ]
     },
     "execution_count": 6,
     "metadata": {},
     "output_type": "execute_result"
    }
   ],
   "source": [
    "#Check the summary statistics on the 2 numeric columns\n",
    "df.describe().T"
   ]
  },
  {
   "cell_type": "markdown",
   "id": "07f1d77b",
   "metadata": {},
   "source": [
    "user_id though a numeric column, it is an id value. So we won't be performing any numerical functions on this.\n",
    "\n",
    "time_spent_on_the_page shows minimum is 0.19 and maximum is 10.71 and mean is at 5.3778 minutes. "
   ]
  },
  {
   "cell_type": "code",
   "execution_count": 7,
   "id": "d2e810ff",
   "metadata": {},
   "outputs": [
    {
     "data": {
      "text/html": [
       "<div>\n",
       "<style scoped>\n",
       "    .dataframe tbody tr th:only-of-type {\n",
       "        vertical-align: middle;\n",
       "    }\n",
       "\n",
       "    .dataframe tbody tr th {\n",
       "        vertical-align: top;\n",
       "    }\n",
       "\n",
       "    .dataframe thead th {\n",
       "        text-align: right;\n",
       "    }\n",
       "</style>\n",
       "<table border=\"1\" class=\"dataframe\">\n",
       "  <thead>\n",
       "    <tr style=\"text-align: right;\">\n",
       "      <th></th>\n",
       "      <th>group</th>\n",
       "      <th>landing_page</th>\n",
       "      <th>converted</th>\n",
       "      <th>language_preferred</th>\n",
       "    </tr>\n",
       "  </thead>\n",
       "  <tbody>\n",
       "    <tr>\n",
       "      <th>count</th>\n",
       "      <td>100</td>\n",
       "      <td>100</td>\n",
       "      <td>100</td>\n",
       "      <td>100</td>\n",
       "    </tr>\n",
       "    <tr>\n",
       "      <th>unique</th>\n",
       "      <td>2</td>\n",
       "      <td>2</td>\n",
       "      <td>2</td>\n",
       "      <td>3</td>\n",
       "    </tr>\n",
       "    <tr>\n",
       "      <th>top</th>\n",
       "      <td>treatment</td>\n",
       "      <td>new</td>\n",
       "      <td>yes</td>\n",
       "      <td>French</td>\n",
       "    </tr>\n",
       "    <tr>\n",
       "      <th>freq</th>\n",
       "      <td>50</td>\n",
       "      <td>50</td>\n",
       "      <td>54</td>\n",
       "      <td>34</td>\n",
       "    </tr>\n",
       "  </tbody>\n",
       "</table>\n",
       "</div>"
      ],
      "text/plain": [
       "            group landing_page converted language_preferred\n",
       "count         100          100       100                100\n",
       "unique          2            2         2                  3\n",
       "top     treatment          new       yes             French\n",
       "freq           50           50        54                 34"
      ]
     },
     "execution_count": 7,
     "metadata": {},
     "output_type": "execute_result"
    }
   ],
   "source": [
    "# Checking the summary on non-numeric attributes\n",
    "df.describe(exclude='number')"
   ]
  },
  {
   "cell_type": "markdown",
   "id": "40d85a02",
   "metadata": {},
   "source": [
    "The describe on non-numeric attributes shows that:\n",
    "\n",
    "group, landing_page and converted attributes have 2 unique values each and language_preferred has 3 unique values. \n",
    "\n",
    "converted has 'yes' as most frequent value with 54 occurrences.\n",
    "\n",
    "language_preferred has 'French' as top frequeny value with 34 occurrences. group and landing_page has equal frequency of the 2 available values correspondingly."
   ]
  },
  {
   "cell_type": "code",
   "execution_count": 8,
   "id": "0c5a86b0",
   "metadata": {},
   "outputs": [
    {
     "data": {
      "text/plain": [
       "user_id                   0\n",
       "group                     0\n",
       "landing_page              0\n",
       "time_spent_on_the_page    0\n",
       "converted                 0\n",
       "language_preferred        0\n",
       "dtype: int64"
      ]
     },
     "execution_count": 8,
     "metadata": {},
     "output_type": "execute_result"
    }
   ],
   "source": [
    "# check for missing values\n",
    "df.isnull().sum()"
   ]
  },
  {
   "cell_type": "markdown",
   "id": "4ad7dd65",
   "metadata": {},
   "source": [
    "There is no missing values in any of the columns."
   ]
  },
  {
   "cell_type": "markdown",
   "id": "3c57bf89",
   "metadata": {},
   "source": [
    "## Exploratory Data Analysis"
   ]
  },
  {
   "cell_type": "markdown",
   "id": "8aa43411",
   "metadata": {},
   "source": [
    "### Univariate Analysis"
   ]
  },
  {
   "cell_type": "code",
   "execution_count": 9,
   "id": "f6691cbc",
   "metadata": {},
   "outputs": [],
   "source": [
    "# function to plot a boxplot and a histogram along the same scale.\n",
    "\n",
    "def histogram_boxplot(data, feature, figsize=(12, 7), kde=False, bins=None):\n",
    "    \"\"\"\n",
    "    Boxplot and histogram combined\n",
    "\n",
    "    data: dataframe\n",
    "    feature: dataframe column\n",
    "    figsize: size of figure (default (12,7))\n",
    "    kde: whether to show the density curve (default False)\n",
    "    bins: number of bins for histogram (default None)\n",
    "    \"\"\"\n",
    "    f2, (ax_box2, ax_hist2) = plt.subplots(\n",
    "        nrows=2,  # Number of rows of the subplot grid= 2\n",
    "        sharex=True,  # x-axis will be shared among all subplots\n",
    "        gridspec_kw={\"height_ratios\": (0.25, 0.75)},\n",
    "        figsize=figsize,\n",
    "    )  # creating the 2 subplots\n",
    "    sns.boxplot(\n",
    "        data=data, x=feature, ax=ax_box2, showmeans=True, color=\"violet\"\n",
    "    )  # boxplot will be created and a star will indicate the mean value of the column\n",
    "    sns.histplot(\n",
    "        data=data, x=feature, kde=kde, ax=ax_hist2, bins=bins, palette=\"winter\"\n",
    "    ) if bins else sns.histplot(\n",
    "        data=data, x=feature, kde=kde, ax=ax_hist2\n",
    "    )  # For histogram\n",
    "    ax_hist2.axvline(\n",
    "        data[feature].mean(), color=\"green\", linestyle=\"--\"\n",
    "    )  # Add mean to the histogram\n",
    "    ax_hist2.axvline(\n",
    "        data[feature].median(), color=\"black\", linestyle=\"-\"\n",
    "    )  # Add median to the histogram"
   ]
  },
  {
   "cell_type": "code",
   "execution_count": 10,
   "id": "bf283b45",
   "metadata": {},
   "outputs": [],
   "source": [
    "# function to create labeled barplots\n",
    "\n",
    "\n",
    "def labeled_barplot(data, feature, perc=False, n=None):\n",
    "    \"\"\"\n",
    "    Barplot with percentage at the top\n",
    "\n",
    "    data: dataframe\n",
    "    feature: dataframe column\n",
    "    perc: whether to display percentages instead of count (default is False)\n",
    "    n: displays the top n category levels (default is None, i.e., display all levels)\n",
    "    \"\"\"\n",
    "\n",
    "    total = len(data[feature])  # length of the column\n",
    "    count = data[feature].nunique()\n",
    "    if n is None:\n",
    "        plt.figure(figsize=(count + 1, 5))\n",
    "    else:\n",
    "        plt.figure(figsize=(n + 1, 5))\n",
    "\n",
    "    plt.xticks(rotation=90, fontsize=15)\n",
    "    ax = sns.countplot(\n",
    "        data=data,\n",
    "        x=feature,\n",
    "        palette=\"Paired\",\n",
    "        order=data[feature].value_counts().index[:n].sort_values(),\n",
    "    )\n",
    "\n",
    "    for p in ax.patches:\n",
    "        if perc == True:\n",
    "            label = \"{:.1f}%\".format(\n",
    "                100 * p.get_height() / total\n",
    "            )  # percentage of each class of the category\n",
    "        else:\n",
    "            label = p.get_height()  # count of each level of the category\n",
    "\n",
    "        x = p.get_x() + p.get_width() / 2  # width of the plot\n",
    "        y = p.get_height()  # height of the plot\n",
    "\n",
    "        ax.annotate(\n",
    "            label,\n",
    "            (x, y),\n",
    "            ha=\"center\",\n",
    "            va=\"center\",\n",
    "            size=12,\n",
    "            xytext=(0, 5),\n",
    "            textcoords=\"offset points\",\n",
    "        )  # annotate the percentage\n",
    "\n",
    "    plt.show()  # show the plot"
   ]
  },
  {
   "cell_type": "code",
   "execution_count": 11,
   "id": "20cf35fa",
   "metadata": {},
   "outputs": [
    {
     "data": {
      "text/plain": [
       "(100,)"
      ]
     },
     "execution_count": 11,
     "metadata": {},
     "output_type": "execute_result"
    }
   ],
   "source": [
    "#Analysis on user_id attribute\n",
    "df['user_id'].value_counts().shape"
   ]
  },
  {
   "cell_type": "markdown",
   "id": "99bf70c3",
   "metadata": {},
   "source": [
    "There are 100 unique user_ids in the dataset; this is just a unique id to identify each user."
   ]
  },
  {
   "cell_type": "markdown",
   "id": "76a92a61",
   "metadata": {},
   "source": [
    "### Group"
   ]
  },
  {
   "cell_type": "code",
   "execution_count": 12,
   "id": "fbd3d3c5",
   "metadata": {},
   "outputs": [
    {
     "data": {
      "text/plain": [
       "treatment    50\n",
       "control      50\n",
       "Name: group, dtype: int64"
      ]
     },
     "execution_count": 12,
     "metadata": {},
     "output_type": "execute_result"
    }
   ],
   "source": [
    "#analysis on Group attribute\n",
    "df['group'].value_counts()"
   ]
  },
  {
   "cell_type": "markdown",
   "id": "f69a5aec",
   "metadata": {},
   "source": [
    "There are 2 groups control and treatment with equal population; as explained in the problem statement the entire dataset of 100 users is split into 2 groups for abtest-- Control and Treatment"
   ]
  },
  {
   "cell_type": "code",
   "execution_count": 13,
   "id": "dafbdcf1",
   "metadata": {},
   "outputs": [
    {
     "data": {
      "image/png": "[encoded data removed]",
      "text/plain": [
       "<Figure size 216x360 with 1 Axes>"
      ]
     },
     "metadata": {
      "needs_background": "light"
     },
     "output_type": "display_data"
    }
   ],
   "source": [
    "#Group is plotted using a bar plot\n",
    "labeled_barplot(df, 'group', perc=True)"
   ]
  },
  {
   "cell_type": "markdown",
   "id": "8a159094",
   "metadata": {},
   "source": [
    "The same is observed in the boxplot as well, 50% for each of the group- Control and Treatment."
   ]
  },
  {
   "cell_type": "markdown",
   "id": "3ea0383f",
   "metadata": {},
   "source": [
    "### Landing page"
   ]
  },
  {
   "cell_type": "code",
   "execution_count": 14,
   "id": "00baa395",
   "metadata": {},
   "outputs": [
    {
     "data": {
      "text/plain": [
       "(2,)"
      ]
     },
     "execution_count": 14,
     "metadata": {},
     "output_type": "execute_result"
    }
   ],
   "source": [
    "#Checking unique landing_page \n",
    "df['landing_page'].value_counts().shape"
   ]
  },
  {
   "cell_type": "markdown",
   "id": "acd1b6a5",
   "metadata": {},
   "source": [
    "There are 2 unique values in Landing_page."
   ]
  },
  {
   "cell_type": "code",
   "execution_count": 15,
   "id": "d8dffdb5",
   "metadata": {},
   "outputs": [
    {
     "data": {
      "image/png": "[encoded data removed]",
      "text/plain": [
       "<Figure size 216x360 with 1 Axes>"
      ]
     },
     "metadata": {
      "needs_background": "light"
     },
     "output_type": "display_data"
    }
   ],
   "source": [
    "#plotting landing_page on barplot\n",
    "labeled_barplot(df, 'landing_page', perc=True)"
   ]
  },
  {
   "cell_type": "markdown",
   "id": "c2fafaa7",
   "metadata": {},
   "source": [
    "The users are divided to 50 for new landing page and 50 for old landing page"
   ]
  },
  {
   "cell_type": "markdown",
   "id": "deb1c3aa",
   "metadata": {},
   "source": [
    "### Converted"
   ]
  },
  {
   "cell_type": "code",
   "execution_count": 16,
   "id": "b42736be",
   "metadata": {},
   "outputs": [
    {
     "data": {
      "text/plain": [
       "yes    54\n",
       "no     46\n",
       "Name: converted, dtype: int64"
      ]
     },
     "execution_count": 16,
     "metadata": {},
     "output_type": "execute_result"
    }
   ],
   "source": [
    "# Check unique values in converted\n",
    "df['converted'].value_counts()"
   ]
  },
  {
   "cell_type": "markdown",
   "id": "3e379cb9",
   "metadata": {},
   "source": [
    "There are 2 unique values for 'converted' attribute with values as 'yes' and 'no'."
   ]
  },
  {
   "cell_type": "code",
   "execution_count": 17,
   "id": "cb58f068",
   "metadata": {},
   "outputs": [
    {
     "data": {
      "image/png": "[encoded data removed]",
      "text/plain": [
       "<Figure size 216x360 with 1 Axes>"
      ]
     },
     "metadata": {
      "needs_background": "light"
     },
     "output_type": "display_data"
    }
   ],
   "source": [
    "#Plotting converted on bar plot\n",
    "labeled_barplot(df, 'converted', perc=True)"
   ]
  },
  {
   "cell_type": "markdown",
   "id": "b5c5cb2f",
   "metadata": {},
   "source": [
    "This shows 54% of users or 54 users from the 100 got converted to a subscriber of the news portal and 46 users didnt convert as subscribers."
   ]
  },
  {
   "cell_type": "markdown",
   "id": "5e30a2b5",
   "metadata": {},
   "source": [
    "### Language preferred"
   ]
  },
  {
   "cell_type": "code",
   "execution_count": 18,
   "id": "6c7ac775",
   "metadata": {},
   "outputs": [
    {
     "data": {
      "text/plain": [
       "French     34\n",
       "Spanish    34\n",
       "English    32\n",
       "Name: language_preferred, dtype: int64"
      ]
     },
     "execution_count": 18,
     "metadata": {},
     "output_type": "execute_result"
    }
   ],
   "source": [
    "#Check unique values in language_preferred\n",
    "df['language_preferred'].value_counts()"
   ]
  },
  {
   "cell_type": "markdown",
   "id": "8ceaef3b",
   "metadata": {},
   "source": [
    "There are 3 unique values in 'langauge_preferred' - English, French and Spanish."
   ]
  },
  {
   "cell_type": "code",
   "execution_count": 19,
   "id": "ef8fc7e6",
   "metadata": {},
   "outputs": [
    {
     "data": {
      "image/png": "[encoded data removed]",
      "text/plain": [
       "<Figure size 288x360 with 1 Axes>"
      ]
     },
     "metadata": {
      "needs_background": "light"
     },
     "output_type": "display_data"
    }
   ],
   "source": [
    "#Plotting language_preferred on bar plot\n",
    "labeled_barplot(df, 'language_preferred', perc=True)"
   ]
  },
  {
   "cell_type": "markdown",
   "id": "362e5dfe",
   "metadata": {},
   "source": [
    "So 32% of users preferred English, 34% preferred French and 34% preferred Spanish as their language preferences."
   ]
  },
  {
   "cell_type": "markdown",
   "id": "80a6d23a",
   "metadata": {},
   "source": [
    "### Time Spent on the page"
   ]
  },
  {
   "cell_type": "code",
   "execution_count": 20,
   "id": "42172cf8",
   "metadata": {},
   "outputs": [
    {
     "data": {
      "text/plain": [
       "(94,)"
      ]
     },
     "execution_count": 20,
     "metadata": {},
     "output_type": "execute_result"
    }
   ],
   "source": [
    "#Checking unique counts on time spent\n",
    "df['time_spent_on_the_page'].value_counts().shape"
   ]
  },
  {
   "cell_type": "code",
   "execution_count": 21,
   "id": "1942cc01",
   "metadata": {},
   "outputs": [
    {
     "data": {
      "image/png": "[encoded data removed]",
      "text/plain": [
       "<Figure size 864x504 with 2 Axes>"
      ]
     },
     "metadata": {
      "needs_background": "light"
     },
     "output_type": "display_data"
    }
   ],
   "source": [
    "#Plotting time_spent_on_the_page using a histogram and box plot combination\n",
    "histogram_boxplot(df, 'time_spent_on_the_page')"
   ]
  },
  {
   "cell_type": "markdown",
   "id": "a1f6575d",
   "metadata": {},
   "source": [
    "Average time spent is very close to the median value; so there doesnt seem to be any skewness in the data. \n",
    "\n",
    "Majority of the users spent around 4-6 minutes on the page.\n"
   ]
  },
  {
   "cell_type": "markdown",
   "id": "7cca7eb6",
   "metadata": {},
   "source": [
    "### Bivariate analysis"
   ]
  },
  {
   "cell_type": "code",
   "execution_count": 22,
   "id": "dc5fd5ad",
   "metadata": {},
   "outputs": [
    {
     "data": {
      "image/png": "[encoded data removed]",
      "text/plain": [
       "<Figure size 864x360 with 1 Axes>"
      ]
     },
     "metadata": {
      "needs_background": "light"
     },
     "output_type": "display_data"
    }
   ],
   "source": [
    "# Analysis of time_spent_on_the_page for each group\n",
    "plt.figure(figsize=(12,5))\n",
    "sns.boxplot(x = \"time_spent_on_the_page\", y = \"group\",data = df)\n",
    "plt.xlabel('Time Spent on the page')\n",
    "plt.ylabel('Group of Users')\n",
    "plt.show()"
   ]
  },
  {
   "cell_type": "markdown",
   "id": "005d9203",
   "metadata": {},
   "source": [
    "Control group users have spent less time on the page, compared to the Treatment group. "
   ]
  },
  {
   "cell_type": "code",
   "execution_count": 23,
   "id": "ba9f9618",
   "metadata": {},
   "outputs": [
    {
     "data": {
      "text/plain": [
       "group      converted\n",
       "control    no           29\n",
       "           yes          21\n",
       "treatment  yes          33\n",
       "           no           17\n",
       "Name: converted, dtype: int64"
      ]
     },
     "execution_count": 23,
     "metadata": {},
     "output_type": "execute_result"
    }
   ],
   "source": [
    "#Getting unique counts of converted users for each group\n",
    "df.groupby(['group'])['converted'].value_counts()"
   ]
  },
  {
   "cell_type": "markdown",
   "id": "a1968d2d",
   "metadata": {},
   "source": [
    "Treatment group has 33 users who got converted and Control group has only 29 users who got converted as Subscribers.\n",
    "So it is evident from the sample that Treatment group users who are served with the new landing page tend to convert to Subscribers more compared to control group."
   ]
  },
  {
   "cell_type": "code",
   "execution_count": 24,
   "id": "c45825c1",
   "metadata": {},
   "outputs": [
    {
     "data": {
      "image/png": "[encoded data removed]",
      "text/plain": [
       "<Figure size 576x360 with 1 Axes>"
      ]
     },
     "metadata": {
      "needs_background": "light"
     },
     "output_type": "display_data"
    }
   ],
   "source": [
    "#Plotting Group vs Converted using Count plot\n",
    "plt.figure(figsize=(8,5))\n",
    "sns.countplot(df['group'],hue=df['converted'])\n",
    "plt.xlabel('Group of Users')\n",
    "plt.ylabel('Count')\n",
    "plt.show()"
   ]
  },
  {
   "cell_type": "markdown",
   "id": "79407da7",
   "metadata": {},
   "source": [
    "The plot shows that users from Treatment group majorily converted to Subscriber of the news portal; as compared to number of users converted from Control group."
   ]
  },
  {
   "cell_type": "code",
   "execution_count": 25,
   "id": "42f4e88a",
   "metadata": {},
   "outputs": [
    {
     "data": {
      "text/plain": [
       "group      language_preferred\n",
       "control    French                17\n",
       "           Spanish               17\n",
       "           English               16\n",
       "treatment  French                17\n",
       "           Spanish               17\n",
       "           English               16\n",
       "Name: language_preferred, dtype: int64"
      ]
     },
     "execution_count": 25,
     "metadata": {},
     "output_type": "execute_result"
    }
   ],
   "source": [
    "#Getting counts of language_preferred for each group\n",
    "df.groupby(['group'])['language_preferred'].value_counts()"
   ]
  },
  {
   "cell_type": "code",
   "execution_count": 26,
   "id": "fae775da",
   "metadata": {},
   "outputs": [
    {
     "data": {
      "image/png": "[encoded data removed]",
      "text/plain": [
       "<Figure size 504x360 with 1 Axes>"
      ]
     },
     "metadata": {
      "needs_background": "light"
     },
     "output_type": "display_data"
    }
   ],
   "source": [
    "#Plotting Group vs lanugage_preferred using Count plot\n",
    "plt.figure(figsize=(7,5))\n",
    "sns.countplot(df['group'],hue=df['language_preferred'])\n",
    "plt.xlabel('Group of Users')\n",
    "plt.ylabel('Count')\n",
    "plt.show()"
   ]
  },
  {
   "cell_type": "markdown",
   "id": "80beca53",
   "metadata": {},
   "source": [
    "Langauge preferred doesnt really vary much with the group of users. "
   ]
  },
  {
   "cell_type": "code",
   "execution_count": 27,
   "id": "5d3da544",
   "metadata": {},
   "outputs": [
    {
     "data": {
      "image/png": "[encoded data removed]",
      "text/plain": [
       "<Figure size 720x288 with 1 Axes>"
      ]
     },
     "metadata": {
      "needs_background": "light"
     },
     "output_type": "display_data"
    }
   ],
   "source": [
    "# Analysis to check if time_spent_on_the_page varies if Users converted to subscribers or not\n",
    "plt.figure(figsize=(10,4))\n",
    "sns.boxplot(x = \"time_spent_on_the_page\", y = \"converted\",data = df)\n",
    "plt.xlabel('Time Spent on the page')\n",
    "plt.ylabel('Users Converted')\n",
    "plt.show()"
   ]
  },
  {
   "cell_type": "markdown",
   "id": "480231ed",
   "metadata": {},
   "source": [
    "This plot shows that Users who converted to Subscribers on the news portal did spend more time on the page, compared to users who did not subscribe."
   ]
  },
  {
   "cell_type": "code",
   "execution_count": 28,
   "id": "e21c2132",
   "metadata": {},
   "outputs": [
    {
     "data": {
      "image/png": "[encoded data removed]",
      "text/plain": [
       "<Figure size 720x288 with 1 Axes>"
      ]
     },
     "metadata": {
      "needs_background": "light"
     },
     "output_type": "display_data"
    }
   ],
   "source": [
    "# Analysis to check if time_spent_on_the_page varies if the landing page is new or old.\n",
    "plt.figure(figsize=(10,4))\n",
    "sns.boxplot(x = \"time_spent_on_the_page\", y = \"landing_page\",data = df,showmeans=True)\n",
    "plt.xlabel('Time Spent on the page')\n",
    "plt.ylabel('Landing Page')\n",
    "plt.show()"
   ]
  },
  {
   "cell_type": "markdown",
   "id": "d1bbbedc",
   "metadata": {},
   "source": [
    "From this plot, for the sample considered here; Mean and Medain of new landing page is more than the old page. So it looks like the Users are spending more time on the new landing page than the old. "
   ]
  },
  {
   "cell_type": "code",
   "execution_count": 29,
   "id": "1f9b7463",
   "metadata": {},
   "outputs": [
    {
     "data": {
      "image/png": "[encoded data removed]",
      "text/plain": [
       "<Figure size 864x504 with 1 Axes>"
      ]
     },
     "metadata": {
      "needs_background": "light"
     },
     "output_type": "display_data"
    }
   ],
   "source": [
    "#Box plot to identify the Mean Time Spent on the New page, for each of the langauges preferred per landing_page\n",
    "plt.figure(figsize=(12,7))\n",
    "sns.boxplot(data=df,x='language_preferred',y='time_spent_on_the_page',showmeans=True,hue='landing_page')\n",
    "plt.xlabel('Langauge Preference')\n",
    "plt.ylabel('Time Spent on the page')\n",
    "plt.show()"
   ]
  },
  {
   "cell_type": "markdown",
   "id": "44ea8435",
   "metadata": {},
   "source": [
    "This plot shows the time spent on the landing page for each of the 3 languages preferred.\n",
    "For the old and new pages, the means of time spent on the page are not too varying for the 3 languages. So, there may not be much of an impact of language preferred on the time spent on the pages.\n"
   ]
  },
  {
   "cell_type": "markdown",
   "id": "61071aec",
   "metadata": {},
   "source": [
    "**Plotting distribution for 'time_spent_on_the_page'**"
   ]
  },
  {
   "cell_type": "code",
   "execution_count": 30,
   "id": "bb7e1798",
   "metadata": {
    "scrolled": true
   },
   "outputs": [
    {
     "data": {
      "image/png": "[encoded data removed]",
      "text/plain": [
       "<Figure size 432x288 with 1 Axes>"
      ]
     },
     "metadata": {
      "needs_background": "light"
     },
     "output_type": "display_data"
    }
   ],
   "source": [
    "# visualize the distribution of the time spent on the page \n",
    "plt.hist(df[\"time_spent_on_the_page\"], density=True)\n",
    "plt.xlabel(\"Time Spent on the page\")\n",
    "plt.ylabel(\"Probability\")\n",
    "plt.title(\"Data Distribution\")\n",
    "plt.show()"
   ]
  },
  {
   "cell_type": "code",
   "execution_count": 31,
   "id": "f483189a",
   "metadata": {},
   "outputs": [
    {
     "name": "stdout",
     "output_type": "stream",
     "text": [
      "The estimated mean is 5.38\n",
      "The estimated standard deviation is 2.38\n"
     ]
    }
   ],
   "source": [
    "# import the required function\n",
    "from scipy.stats import norm\n",
    "\n",
    "# estimate the mean and standard deviation of the Time Spent data\n",
    "mu = df[\"time_spent_on_the_page\"].mean()\n",
    "sigma = df[\"time_spent_on_the_page\"].std()\n",
    "print(\"The estimated mean is\", round(mu, 2))\n",
    "print(\"The estimated standard deviation is\", round(sigma, 2))"
   ]
  },
  {
   "cell_type": "code",
   "execution_count": 32,
   "id": "ae91d8cd",
   "metadata": {},
   "outputs": [
    {
     "data": {
      "image/png": "[encoded data removed]",
      "text/plain": [
       "<Figure size 432x288 with 1 Axes>"
      ]
     },
     "metadata": {
      "needs_background": "light"
     },
     "output_type": "display_data"
    }
   ],
   "source": [
    "# calculate the pdf of time_spent_on_the_page using norm.pdf()\n",
    "density = pd.DataFrame() # create an empty DataFrame\n",
    "density[\"x\"] = np.linspace(\n",
    "    df[\"time_spent_on_the_page\"].min(), df[\"time_spent_on_the_page\"].max(), 100\n",
    ") # create an array of 100 numbers in between the min and max time range and store it in the first column of the empty DataFrame\n",
    "density[\"pdf\"] = norm.pdf(density[\"x\"], mu, sigma) # calculate the pdf() of the created numbers and store it in another column named 'pdf'\n",
    "\n",
    "fig, ax = plt.subplots() # create the subplot\n",
    "sns.histplot(df[\"time_spent_on_the_page\"], ax=ax, kde=True, stat=\"density\") # plot the distribution of data using histogram\n",
    "ax.plot(density[\"x\"], density[\"pdf\"], color=\"red\") # plot the pdf of the normal distribution\n",
    "plt.title(\"Normal Distribution\") # set the title\n",
    "plt.show() # display the plot"
   ]
  },
  {
   "cell_type": "markdown",
   "id": "f50ece9b",
   "metadata": {},
   "source": [
    "***So the time_spent_on_the_page is almost close to a normal distribution curve***\n",
    "\n",
    "Let us try to do a hypothetical testing and determine whether Users spend more time on new landing page or old."
   ]
  },
  {
   "cell_type": "markdown",
   "id": "c04ec760",
   "metadata": {},
   "source": [
    "## <a name='link14'>***Conduct a hypothesis test to determine whether the users spend more time on new landing page than the old landing page. Using a level of significance as 5%***</a>"
   ]
  },
  {
   "cell_type": "code",
   "execution_count": 33,
   "id": "13bfdd16",
   "metadata": {},
   "outputs": [
    {
     "data": {
      "text/plain": [
       "(50, 6)"
      ]
     },
     "execution_count": 33,
     "metadata": {},
     "output_type": "execute_result"
    }
   ],
   "source": [
    "#Creating a dataframe for Users who are served the old landing page\n",
    "df_oldpage = df.loc[df['landing_page']=='old']\n",
    "df_oldpage.shape"
   ]
  },
  {
   "cell_type": "code",
   "execution_count": 34,
   "id": "42437825",
   "metadata": {},
   "outputs": [
    {
     "data": {
      "text/plain": [
       "(50, 6)"
      ]
     },
     "execution_count": 34,
     "metadata": {},
     "output_type": "execute_result"
    }
   ],
   "source": [
    "#Creating a dataframe for Users who are served the new landing page\n",
    "df_newpage = df.loc[df['landing_page']=='new']\n",
    "df_newpage.shape"
   ]
  },
  {
   "cell_type": "markdown",
   "id": "47e1bdd9",
   "metadata": {},
   "source": [
    "2 new dataframes are created with details of users who are served old landing page and new landing page; both has got 50 records each."
   ]
  },
  {
   "cell_type": "markdown",
   "id": "56d6cd47",
   "metadata": {},
   "source": [
    "## Defining null and alternate hypotheses"
   ]
  },
  {
   "cell_type": "markdown",
   "id": "db004956",
   "metadata": {},
   "source": [
    "$H_0:$ The mean time spent on the new landing page is equal to the mean time spent on the old landing page.\n",
    "\n",
    "$H_a:$ The mean time spent on the new landing page is greater than the mean time spent on the old landing page.\n",
    "\n",
    "Let $\\mu_1$ and $\\mu_2$ be the mean time spent on the new landing page and the mean time spent on the old landing page respectively.\n",
    "\n",
    "Mathematically, the above formulated hypotheses can be written as:\n",
    "\n",
    "$H_0: \\mu_1 = \\mu_2 $\n",
    "\n",
    "$H_a: \\mu_1 > \\mu_2 $"
   ]
  },
  {
   "cell_type": "markdown",
   "id": "4c7da151",
   "metadata": {},
   "source": [
    "## Selecting Appropriate test"
   ]
  },
  {
   "cell_type": "markdown",
   "id": "3b10ce3e",
   "metadata": {},
   "source": [
    "This is a case of a one-tailed two-sample mean test. As the two samples are independent in this case and the population standard deviations are unknown, we shall use a 2 sample t-test for this problem."
   ]
  },
  {
   "cell_type": "markdown",
   "id": "6d58eafe",
   "metadata": {},
   "source": [
    "## Deciding Significance level"
   ]
  },
  {
   "cell_type": "markdown",
   "id": "619e57b2",
   "metadata": {},
   "source": [
    "As given in the problem statement, we select $\\alpha$ = 0.05."
   ]
  },
  {
   "cell_type": "markdown",
   "id": "61d4f4bc",
   "metadata": {},
   "source": [
    "## Calculating the p-value"
   ]
  },
  {
   "cell_type": "markdown",
   "id": "ebb4dee7",
   "metadata": {},
   "source": [
    "**scipy.stats.ttest_ind is the function which can be used for finding the test statistic and p-value for the 2 Independent samples of observations. In our case, the standard deviation is unknown. \n",
    "Our alternative hypothesis is to find if average time spent on new landing page is greater than average time spent on old landing page; so we take 1 tail test with alternative as 'greater'.**"
   ]
  },
  {
   "cell_type": "markdown",
   "id": "5bf6de8d",
   "metadata": {},
   "source": [
    "### Levene’s test - To identify if Standard deviations are equal or not\n",
    "\n",
    "We will test the null hypothesis\n",
    "\n",
    ">$H_0$: All the population variances are equal\n",
    "\n",
    "against the alternative hypothesis\n",
    "\n",
    ">$H_a$: At least one variance is different from the rest\n",
    "\n"
   ]
  },
  {
   "cell_type": "code",
   "execution_count": 35,
   "id": "15d789f4",
   "metadata": {},
   "outputs": [
    {
     "name": "stdout",
     "output_type": "stream",
     "text": [
      "The p-value is 0.009\n"
     ]
    }
   ],
   "source": [
    "#import the required function\n",
    "from scipy.stats import levene\n",
    "statistic, p_value = levene( df['time_spent_on_the_page'][df['landing_page']==\"new\"], \n",
    "                                   df['time_spent_on_the_page'][df['landing_page']==\"old\"])\n",
    "# find the p-value\n",
    "print('The p-value is', round(p_value,3))\n"
   ]
  },
  {
   "cell_type": "markdown",
   "id": "2b60702e",
   "metadata": {},
   "source": [
    "Since the p-value is less than 0.05, we reject the null hypothesis of homogeneity of variances. So the Variances are different."
   ]
  },
  {
   "cell_type": "code",
   "execution_count": 36,
   "id": "8c304fb7",
   "metadata": {
    "scrolled": true
   },
   "outputs": [
    {
     "name": "stdout",
     "output_type": "stream",
     "text": [
      "The p-value is 0.0001392381225166549\n"
     ]
    }
   ],
   "source": [
    "# importing the required function\n",
    "from scipy.stats import ttest_ind\n",
    "\n",
    "# finding the test statistic and p-value\n",
    "test_stat, p_value = ttest_ind(df_newpage['time_spent_on_the_page'], df_oldpage['time_spent_on_the_page'], \n",
    "                               equal_var = False, alternative = 'greater')\n",
    "print('The p-value is', p_value)"
   ]
  },
  {
   "cell_type": "markdown",
   "id": "2b34f615",
   "metadata": {},
   "source": [
    "## Concluding based on comparison of the p-value with Significance level"
   ]
  },
  {
   "cell_type": "code",
   "execution_count": 37,
   "id": "1cf541c6",
   "metadata": {},
   "outputs": [
    {
     "name": "stdout",
     "output_type": "stream",
     "text": [
      "As the p-value 0.0001392381225166549 is less than the level of significance, we reject the null hypothesis.\n"
     ]
    }
   ],
   "source": [
    "# print the conclusion based on p-value\n",
    "if p_value < 0.05:\n",
    "    print(f'As the p-value {p_value} is less than the level of significance, we reject the null hypothesis.')\n",
    "else:\n",
    "    print(f'As the p-value {p_value} is greater than the level of significance, we fail to reject the null hypothesis.')"
   ]
  },
  {
   "cell_type": "markdown",
   "id": "9da94070",
   "metadata": {},
   "source": [
    "## Inference from the test"
   ]
  },
  {
   "cell_type": "markdown",
   "id": "a049d77c",
   "metadata": {},
   "source": [
    "Since the p-value is way less than the level of significance (of 5%), we reject the Null Hypothesis. \n",
    "So we have enough evidence to say that the mean time spent on the new landing page is greater than the average time spent on the old landing page.\n",
    "\n",
    "Users are spending more time on the new landing page."
   ]
  },
  {
   "cell_type": "markdown",
   "id": "d14eb421",
   "metadata": {},
   "source": [
    "### Observations\n",
    "The plot from the sample data showed that Users spent more time on the new landing page compared to the old one. Statistically also we were able to prove in this case that for the population, the Users are spending more time on the new landing page compared to old page. "
   ]
  },
  {
   "cell_type": "markdown",
   "id": "9f8c2d9c",
   "metadata": {},
   "source": [
    "## <a name='link14'>***Is the conversion rate (the proportion of users who visit the landing page and get converted) for the new page greater than the conversion rate for the old page?***</a>"
   ]
  },
  {
   "cell_type": "code",
   "execution_count": 38,
   "id": "2f007bd6",
   "metadata": {},
   "outputs": [
    {
     "data": {
      "text/plain": [
       "<AxesSubplot:xlabel='landing_page', ylabel='count'>"
      ]
     },
     "execution_count": 38,
     "metadata": {},
     "output_type": "execute_result"
    },
    {
     "data": {
      "image/png": "[encoded data removed]",
      "text/plain": [
       "<Figure size 432x288 with 1 Axes>"
      ]
     },
     "metadata": {
      "needs_background": "light"
     },
     "output_type": "display_data"
    }
   ],
   "source": [
    "#Visual analysis of users visiting new landing page and getting converted vs old page and getting converted\n",
    "sns.countplot(data=df,x='landing_page',hue='converted')"
   ]
  },
  {
   "cell_type": "markdown",
   "id": "5ed13bc7",
   "metadata": {},
   "source": [
    "For the sample provided to us, from the plot we can see that the number of users who were served New landing page and got converted to Subscribers are more than the number of users served with old landing page and got converted."
   ]
  },
  {
   "cell_type": "markdown",
   "id": "6c0a12c1",
   "metadata": {},
   "source": [
    "***We will try to determine the same using Hypothesis testing, for finding the proportion on Population***"
   ]
  },
  {
   "cell_type": "code",
   "execution_count": 39,
   "id": "14fe70ad",
   "metadata": {},
   "outputs": [
    {
     "data": {
      "text/html": [
       "<div>\n",
       "<style scoped>\n",
       "    .dataframe tbody tr th:only-of-type {\n",
       "        vertical-align: middle;\n",
       "    }\n",
       "\n",
       "    .dataframe tbody tr th {\n",
       "        vertical-align: top;\n",
       "    }\n",
       "\n",
       "    .dataframe thead th {\n",
       "        text-align: right;\n",
       "    }\n",
       "</style>\n",
       "<table border=\"1\" class=\"dataframe\">\n",
       "  <thead>\n",
       "    <tr style=\"text-align: right;\">\n",
       "      <th></th>\n",
       "      <th>user_id</th>\n",
       "      <th>group</th>\n",
       "      <th>landing_page</th>\n",
       "      <th>time_spent_on_the_page</th>\n",
       "      <th>converted</th>\n",
       "      <th>language_preferred</th>\n",
       "    </tr>\n",
       "  </thead>\n",
       "  <tbody>\n",
       "    <tr>\n",
       "      <th>1</th>\n",
       "      <td>546468</td>\n",
       "      <td>treatment</td>\n",
       "      <td>new</td>\n",
       "      <td>7.13</td>\n",
       "      <td>yes</td>\n",
       "      <td>English</td>\n",
       "    </tr>\n",
       "    <tr>\n",
       "      <th>2</th>\n",
       "      <td>546462</td>\n",
       "      <td>treatment</td>\n",
       "      <td>new</td>\n",
       "      <td>4.40</td>\n",
       "      <td>no</td>\n",
       "      <td>Spanish</td>\n",
       "    </tr>\n",
       "    <tr>\n",
       "      <th>4</th>\n",
       "      <td>546459</td>\n",
       "      <td>treatment</td>\n",
       "      <td>new</td>\n",
       "      <td>4.75</td>\n",
       "      <td>yes</td>\n",
       "      <td>Spanish</td>\n",
       "    </tr>\n",
       "    <tr>\n",
       "      <th>6</th>\n",
       "      <td>546448</td>\n",
       "      <td>treatment</td>\n",
       "      <td>new</td>\n",
       "      <td>5.25</td>\n",
       "      <td>yes</td>\n",
       "      <td>French</td>\n",
       "    </tr>\n",
       "    <tr>\n",
       "      <th>8</th>\n",
       "      <td>546461</td>\n",
       "      <td>treatment</td>\n",
       "      <td>new</td>\n",
       "      <td>10.71</td>\n",
       "      <td>yes</td>\n",
       "      <td>French</td>\n",
       "    </tr>\n",
       "  </tbody>\n",
       "</table>\n",
       "</div>"
      ],
      "text/plain": [
       "   user_id      group landing_page  time_spent_on_the_page converted  \\\n",
       "1   546468  treatment          new                    7.13       yes   \n",
       "2   546462  treatment          new                    4.40        no   \n",
       "4   546459  treatment          new                    4.75       yes   \n",
       "6   546448  treatment          new                    5.25       yes   \n",
       "8   546461  treatment          new                   10.71       yes   \n",
       "\n",
       "  language_preferred  \n",
       "1            English  \n",
       "2            Spanish  \n",
       "4            Spanish  \n",
       "6             French  \n",
       "8             French  "
      ]
     },
     "execution_count": 39,
     "metadata": {},
     "output_type": "execute_result"
    }
   ],
   "source": [
    "#Datatframe for Users who are served New landing page\n",
    "df_newpage.head()"
   ]
  },
  {
   "cell_type": "code",
   "execution_count": 40,
   "id": "199d0d62",
   "metadata": {},
   "outputs": [
    {
     "data": {
      "text/plain": [
       "yes    33\n",
       "no     17\n",
       "Name: converted, dtype: int64"
      ]
     },
     "execution_count": 40,
     "metadata": {},
     "output_type": "execute_result"
    }
   ],
   "source": [
    "#Taking counts on 'Converted' attribute for the New landing page users.\n",
    "df_newpage['converted'].value_counts()"
   ]
  },
  {
   "cell_type": "code",
   "execution_count": 41,
   "id": "1689ebbb",
   "metadata": {},
   "outputs": [
    {
     "data": {
      "text/html": [
       "<div>\n",
       "<style scoped>\n",
       "    .dataframe tbody tr th:only-of-type {\n",
       "        vertical-align: middle;\n",
       "    }\n",
       "\n",
       "    .dataframe tbody tr th {\n",
       "        vertical-align: top;\n",
       "    }\n",
       "\n",
       "    .dataframe thead th {\n",
       "        text-align: right;\n",
       "    }\n",
       "</style>\n",
       "<table border=\"1\" class=\"dataframe\">\n",
       "  <thead>\n",
       "    <tr style=\"text-align: right;\">\n",
       "      <th></th>\n",
       "      <th>user_id</th>\n",
       "      <th>group</th>\n",
       "      <th>landing_page</th>\n",
       "      <th>time_spent_on_the_page</th>\n",
       "      <th>converted</th>\n",
       "      <th>language_preferred</th>\n",
       "    </tr>\n",
       "  </thead>\n",
       "  <tbody>\n",
       "    <tr>\n",
       "      <th>0</th>\n",
       "      <td>546592</td>\n",
       "      <td>control</td>\n",
       "      <td>old</td>\n",
       "      <td>3.48</td>\n",
       "      <td>no</td>\n",
       "      <td>Spanish</td>\n",
       "    </tr>\n",
       "    <tr>\n",
       "      <th>3</th>\n",
       "      <td>546567</td>\n",
       "      <td>control</td>\n",
       "      <td>old</td>\n",
       "      <td>3.02</td>\n",
       "      <td>no</td>\n",
       "      <td>French</td>\n",
       "    </tr>\n",
       "    <tr>\n",
       "      <th>5</th>\n",
       "      <td>546558</td>\n",
       "      <td>control</td>\n",
       "      <td>old</td>\n",
       "      <td>5.28</td>\n",
       "      <td>yes</td>\n",
       "      <td>English</td>\n",
       "    </tr>\n",
       "    <tr>\n",
       "      <th>7</th>\n",
       "      <td>546581</td>\n",
       "      <td>control</td>\n",
       "      <td>old</td>\n",
       "      <td>6.53</td>\n",
       "      <td>yes</td>\n",
       "      <td>Spanish</td>\n",
       "    </tr>\n",
       "    <tr>\n",
       "      <th>9</th>\n",
       "      <td>546548</td>\n",
       "      <td>control</td>\n",
       "      <td>old</td>\n",
       "      <td>2.08</td>\n",
       "      <td>no</td>\n",
       "      <td>English</td>\n",
       "    </tr>\n",
       "  </tbody>\n",
       "</table>\n",
       "</div>"
      ],
      "text/plain": [
       "   user_id    group landing_page  time_spent_on_the_page converted  \\\n",
       "0   546592  control          old                    3.48        no   \n",
       "3   546567  control          old                    3.02        no   \n",
       "5   546558  control          old                    5.28       yes   \n",
       "7   546581  control          old                    6.53       yes   \n",
       "9   546548  control          old                    2.08        no   \n",
       "\n",
       "  language_preferred  \n",
       "0            Spanish  \n",
       "3             French  \n",
       "5            English  \n",
       "7            Spanish  \n",
       "9            English  "
      ]
     },
     "execution_count": 41,
     "metadata": {},
     "output_type": "execute_result"
    }
   ],
   "source": [
    "#Datatframe for Users who are served Old landing page\n",
    "df_oldpage.head()"
   ]
  },
  {
   "cell_type": "code",
   "execution_count": 42,
   "id": "3cc742da",
   "metadata": {},
   "outputs": [
    {
     "data": {
      "text/plain": [
       "no     29\n",
       "yes    21\n",
       "Name: converted, dtype: int64"
      ]
     },
     "execution_count": 42,
     "metadata": {},
     "output_type": "execute_result"
    }
   ],
   "source": [
    "#Taking counts on 'Converted' attribute for the New landing page users.\n",
    "df_oldpage['converted'].value_counts()"
   ]
  },
  {
   "cell_type": "markdown",
   "id": "b8b8a665",
   "metadata": {},
   "source": [
    "## Two Proportion Z-test"
   ]
  },
  {
   "cell_type": "markdown",
   "id": "86f7bac7",
   "metadata": {},
   "source": [
    "### Establishing the null and alternative hypothesis\n",
    "Let $p_1,p_2$ be the proportions of users who visited new page and old page and got converted respectively.\n",
    "\n",
    "Let us test the null hypothesis\n",
    "\n",
    ">$H_0:p_1 = p_2$\n",
    "\n",
    "against the alternate hypothesis\n",
    "\n",
    ">$H_a:p_1 > p_2$"
   ]
  },
  {
   "cell_type": "markdown",
   "id": "9cdf7042",
   "metadata": {},
   "source": [
    "### Checking whether the Z-test assumptions are satisfied or not\n",
    "\n",
    "*   Binomally distributed population - Yes, a user visiting a page can convert to subscriber or not.\n",
    "*   Random sampling from the population - Yes, we are informed that the collected sample is a simple random sample.  \n",
    "*   Can the binomial distribution approximated to normal distribution - Yes. For binary data, CLT works slower than usual. The standard thing is to check whether np and n(1-p) are greater than or equal to 10. Here, n and p refer to the sample size and sample proportion respectively.\n",
    ">$np_1 = 50\\cdot \\frac{33}{50} =33 \\geq 10\\\\\n",
    "n(1-p_1) = 50 \\cdot \\frac{50-33}{50} =17 \\geq 10 \\\\\n",
    "np_2 = 50\\cdot \\frac{21}{50} =21 \\geq 10\\\\\n",
    "n(1-p_2) = 50 \\cdot \\frac{50-21}{50} =29 \\geq 10 $\n"
   ]
  },
  {
   "cell_type": "markdown",
   "id": "a9e2f917",
   "metadata": {},
   "source": [
    "## Deciding the significance level"
   ]
  },
  {
   "cell_type": "markdown",
   "id": "1cf457d7",
   "metadata": {},
   "source": [
    "As given in the problem statement, we select α = 0.05."
   ]
  },
  {
   "cell_type": "code",
   "execution_count": 43,
   "id": "7ecfe7fb",
   "metadata": {},
   "outputs": [
    {
     "name": "stdout",
     "output_type": "stream",
     "text": [
      "The numbers of Users who used New page and converted and users who tried old page and converted are 33 and 21 respectively.\n",
      "The total numbers of users served new page and old page are 50 and 50 respectively.\n"
     ]
    }
   ],
   "source": [
    "# number of users who were served new landing page and converted as Subscribers\n",
    "new_converted = df[df['landing_page']=='new'].converted.value_counts()['yes']\n",
    "# number of users who were served old landing page and converted as Subscribers\n",
    "old_converted = df[df['landing_page']=='old'].converted.value_counts()['yes']\n",
    "\n",
    "\n",
    "print('The numbers of Users who used New page and converted and users who tried old page and converted are {0} and {1} respectively.'.format(new_converted, old_converted))\n",
    "\n",
    "# number of users served new page\n",
    "n_newpage = df.landing_page.value_counts()['new']\n",
    "\n",
    "# number of users served old landing page\n",
    "n_oldpage = df.landing_page.value_counts()['old']\n",
    "\n",
    "print('The total numbers of users served new page and old page are {0} and {1} respectively.'.format(n_newpage, n_oldpage))"
   ]
  },
  {
   "cell_type": "code",
   "execution_count": 44,
   "id": "1d186ba9",
   "metadata": {},
   "outputs": [
    {
     "name": "stdout",
     "output_type": "stream",
     "text": [
      "The p-value is 0.008026308204056278\n"
     ]
    }
   ],
   "source": [
    "# import the required function\n",
    "from statsmodels.stats.proportion import proportions_ztest\n",
    "\n",
    "# find the p-value\n",
    "test_stat, p_value = proportions_ztest([new_converted, old_converted], [n_newpage, n_oldpage],alternative = 'larger')\n",
    "print('The p-value is ' + str(p_value))"
   ]
  },
  {
   "cell_type": "markdown",
   "id": "2629c4c8",
   "metadata": {},
   "source": [
    "## Concluding based on comparison of the p-value with Significance level"
   ]
  },
  {
   "cell_type": "code",
   "execution_count": 45,
   "id": "207a2ac7",
   "metadata": {},
   "outputs": [
    {
     "name": "stdout",
     "output_type": "stream",
     "text": [
      "As the p-value 0.008026308204056278 is less than the level of significance, we reject the null hypothesis.\n"
     ]
    }
   ],
   "source": [
    "# print the conclusion based on p-value\n",
    "if p_value < 0.05:\n",
    "    print(f'As the p-value {p_value} is less than the level of significance, we reject the null hypothesis.')\n",
    "else:\n",
    "    print(f'As the p-value {p_value} is greater than the level of significance, we fail to reject the null hypothesis.')"
   ]
  },
  {
   "cell_type": "markdown",
   "id": "c5dc4308",
   "metadata": {},
   "source": [
    "**Inference**"
   ]
  },
  {
   "cell_type": "markdown",
   "id": "ec15cebf",
   "metadata": {},
   "source": [
    "The p_value is less than 0.05 (significance level of 5%), we reject the Null Hypothesis. So we have enough statistical evidence to say that the proportion of users who visited new page and getting converted is more than the proportion of users visiting old page and getting converted."
   ]
  },
  {
   "cell_type": "markdown",
   "id": "28dfa727",
   "metadata": {},
   "source": [
    "## Observations and Findings\n",
    "From the sample data we observed that the proportion of users who visited new page and got converted to be Subscribers are more than the proportion of users who visited old page and got converted.\n",
    "The same holds true for the population as well, as per our statistical analysis."
   ]
  },
  {
   "cell_type": "markdown",
   "id": "441ace4c",
   "metadata": {},
   "source": [
    "## <a name='link14'>***Does the converted status depend on the preferred language? [Hint: Create a contingency table using the pandas.crosstab() function]***</a>"
   ]
  },
  {
   "cell_type": "code",
   "execution_count": 46,
   "id": "5f8aa0b5",
   "metadata": {
    "scrolled": false
   },
   "outputs": [
    {
     "data": {
      "text/plain": [
       "<AxesSubplot:xlabel='language_preferred', ylabel='count'>"
      ]
     },
     "execution_count": 46,
     "metadata": {},
     "output_type": "execute_result"
    },
    {
     "data": {
      "image/png": "[encoded data removed]",
      "text/plain": [
       "<Figure size 432x288 with 1 Axes>"
      ]
     },
     "metadata": {
      "needs_background": "light"
     },
     "output_type": "display_data"
    }
   ],
   "source": [
    "#Count plot to verify the dependency of Language preferred vs converted status\n",
    "sns.countplot(data=df,hue='converted',x='language_preferred')"
   ]
  },
  {
   "cell_type": "markdown",
   "id": "22dbbfb4",
   "metadata": {},
   "source": [
    "The plot shows there are more number of users who got converted, who has English as language preferred. But we cannot be sure about this dependency just looking at this sample."
   ]
  },
  {
   "cell_type": "markdown",
   "id": "ecf62fab",
   "metadata": {},
   "source": [
    "***We will try to determine this dependency with Hypothesis test***"
   ]
  },
  {
   "cell_type": "code",
   "execution_count": 47,
   "id": "a7617e2f",
   "metadata": {},
   "outputs": [
    {
     "data": {
      "text/html": [
       "<div>\n",
       "<style scoped>\n",
       "    .dataframe tbody tr th:only-of-type {\n",
       "        vertical-align: middle;\n",
       "    }\n",
       "\n",
       "    .dataframe tbody tr th {\n",
       "        vertical-align: top;\n",
       "    }\n",
       "\n",
       "    .dataframe thead th {\n",
       "        text-align: right;\n",
       "    }\n",
       "</style>\n",
       "<table border=\"1\" class=\"dataframe\">\n",
       "  <thead>\n",
       "    <tr style=\"text-align: right;\">\n",
       "      <th>converted</th>\n",
       "      <th>no</th>\n",
       "      <th>yes</th>\n",
       "    </tr>\n",
       "    <tr>\n",
       "      <th>language_preferred</th>\n",
       "      <th></th>\n",
       "      <th></th>\n",
       "    </tr>\n",
       "  </thead>\n",
       "  <tbody>\n",
       "    <tr>\n",
       "      <th>English</th>\n",
       "      <td>11</td>\n",
       "      <td>21</td>\n",
       "    </tr>\n",
       "    <tr>\n",
       "      <th>French</th>\n",
       "      <td>19</td>\n",
       "      <td>15</td>\n",
       "    </tr>\n",
       "    <tr>\n",
       "      <th>Spanish</th>\n",
       "      <td>16</td>\n",
       "      <td>18</td>\n",
       "    </tr>\n",
       "  </tbody>\n",
       "</table>\n",
       "</div>"
      ],
      "text/plain": [
       "converted           no  yes\n",
       "language_preferred         \n",
       "English             11   21\n",
       "French              19   15\n",
       "Spanish             16   18"
      ]
     },
     "execution_count": 47,
     "metadata": {},
     "output_type": "execute_result"
    }
   ],
   "source": [
    "#Creating a Contingency table with language_preferred and converted to find the dependency\n",
    "df1=pd.crosstab(df['language_preferred'],df['converted'])\n",
    "df1"
   ]
  },
  {
   "cell_type": "markdown",
   "id": "84dd20f9",
   "metadata": {},
   "source": [
    "## Chi-Square Test for Independence"
   ]
  },
  {
   "cell_type": "markdown",
   "id": "59d46455",
   "metadata": {},
   "source": [
    "### Let's write the null and alternative hypothesis\n",
    "\n",
    "\n",
    "We will test the null hypothesis\n",
    "\n",
    ">$H_0:$ Converted status is independent of Language preference.\n",
    "\n",
    "against the alternate hypothesis\n",
    "\n",
    ">$H_a:$ Converted status depends on Language preference.\n",
    "\n"
   ]
  },
  {
   "cell_type": "markdown",
   "id": "a209ae23",
   "metadata": {},
   "source": [
    "### Let's test whether the assumptions are satisfied or not\n",
    "\n",
    "* Categorical variables - Yes\n",
    "* Expected value of the number of sample observations in each level of the variable is at least 5 - Yes, the number of observations in each level is greater than 5.\n",
    "* Random sampling from the population - Yes, we are informed that the collected sample is a simple random sample.\n"
   ]
  },
  {
   "cell_type": "markdown",
   "id": "e5743e17",
   "metadata": {},
   "source": [
    "## Deciding the significance level"
   ]
  },
  {
   "cell_type": "markdown",
   "id": "30ee5e5e",
   "metadata": {},
   "source": [
    "As given in the problem statement, we select α = 0.05."
   ]
  },
  {
   "cell_type": "code",
   "execution_count": 48,
   "id": "3864363c",
   "metadata": {},
   "outputs": [
    {
     "name": "stdout",
     "output_type": "stream",
     "text": [
      "p-value is: 0.2129888748754345\n"
     ]
    }
   ],
   "source": [
    "#import necessary libraries\n",
    "from scipy.stats import chi2_contingency\n",
    "#finding p_value from Chi square test\n",
    "chi, p_value, dof, expected = chi2_contingency(df1)\n",
    "print('p-value is:', p_value)"
   ]
  },
  {
   "cell_type": "markdown",
   "id": "e6831e3e",
   "metadata": {},
   "source": [
    "## Concluding based on comparison of the p-value with Significance level"
   ]
  },
  {
   "cell_type": "code",
   "execution_count": 49,
   "id": "f3d1dcc1",
   "metadata": {},
   "outputs": [
    {
     "name": "stdout",
     "output_type": "stream",
     "text": [
      "As the p-value 0.2129888748754345 is greater than the level of significance, we fail to reject the null hypothesis.\n"
     ]
    }
   ],
   "source": [
    "# print the conclusion based on p-value\n",
    "if p_value < 0.05:\n",
    "    print(f'As the p-value {p_value} is less than the level of significance, we reject the null hypothesis.')\n",
    "else:\n",
    "    print(f'As the p-value {p_value} is greater than the level of significance, we fail to reject the null hypothesis.')"
   ]
  },
  {
   "cell_type": "markdown",
   "id": "9cfb82c7",
   "metadata": {},
   "source": [
    "**Inference**"
   ]
  },
  {
   "cell_type": "markdown",
   "id": "ad0ad632",
   "metadata": {},
   "source": [
    "The p_value is greater than 0.05 (significance level of 5%), we fail to reject the Null Hypothesis. So we dont have enough statistical evidence to say that the Converted Status depends on Language Preference.\n",
    "Converted Status is independent of Language Preference."
   ]
  },
  {
   "cell_type": "markdown",
   "id": "c38db180",
   "metadata": {},
   "source": [
    "### Observations:"
   ]
  },
  {
   "cell_type": "markdown",
   "id": "8016e39f",
   "metadata": {},
   "source": [
    "There is no enough statistical evidence to prove that Converted Status depends on Language preference.\n",
    "So Converted Status is  independent of Language Preference."
   ]
  },
  {
   "cell_type": "markdown",
   "id": "46b058cf",
   "metadata": {},
   "source": [
    "## <a name='link14'>***Is the mean time spent on the new page same for the different language users?***<a/>"
   ]
  },
  {
   "cell_type": "code",
   "execution_count": 50,
   "id": "21f630de",
   "metadata": {},
   "outputs": [
    {
     "data": {
      "text/html": [
       "<div>\n",
       "<style scoped>\n",
       "    .dataframe tbody tr th:only-of-type {\n",
       "        vertical-align: middle;\n",
       "    }\n",
       "\n",
       "    .dataframe tbody tr th {\n",
       "        vertical-align: top;\n",
       "    }\n",
       "\n",
       "    .dataframe thead th {\n",
       "        text-align: right;\n",
       "    }\n",
       "</style>\n",
       "<table border=\"1\" class=\"dataframe\">\n",
       "  <thead>\n",
       "    <tr style=\"text-align: right;\">\n",
       "      <th></th>\n",
       "      <th>user_id</th>\n",
       "      <th>group</th>\n",
       "      <th>landing_page</th>\n",
       "      <th>time_spent_on_the_page</th>\n",
       "      <th>converted</th>\n",
       "      <th>language_preferred</th>\n",
       "    </tr>\n",
       "  </thead>\n",
       "  <tbody>\n",
       "    <tr>\n",
       "      <th>1</th>\n",
       "      <td>546468</td>\n",
       "      <td>treatment</td>\n",
       "      <td>new</td>\n",
       "      <td>7.13</td>\n",
       "      <td>yes</td>\n",
       "      <td>English</td>\n",
       "    </tr>\n",
       "    <tr>\n",
       "      <th>2</th>\n",
       "      <td>546462</td>\n",
       "      <td>treatment</td>\n",
       "      <td>new</td>\n",
       "      <td>4.40</td>\n",
       "      <td>no</td>\n",
       "      <td>Spanish</td>\n",
       "    </tr>\n",
       "    <tr>\n",
       "      <th>4</th>\n",
       "      <td>546459</td>\n",
       "      <td>treatment</td>\n",
       "      <td>new</td>\n",
       "      <td>4.75</td>\n",
       "      <td>yes</td>\n",
       "      <td>Spanish</td>\n",
       "    </tr>\n",
       "    <tr>\n",
       "      <th>6</th>\n",
       "      <td>546448</td>\n",
       "      <td>treatment</td>\n",
       "      <td>new</td>\n",
       "      <td>5.25</td>\n",
       "      <td>yes</td>\n",
       "      <td>French</td>\n",
       "    </tr>\n",
       "    <tr>\n",
       "      <th>8</th>\n",
       "      <td>546461</td>\n",
       "      <td>treatment</td>\n",
       "      <td>new</td>\n",
       "      <td>10.71</td>\n",
       "      <td>yes</td>\n",
       "      <td>French</td>\n",
       "    </tr>\n",
       "  </tbody>\n",
       "</table>\n",
       "</div>"
      ],
      "text/plain": [
       "   user_id      group landing_page  time_spent_on_the_page converted  \\\n",
       "1   546468  treatment          new                    7.13       yes   \n",
       "2   546462  treatment          new                    4.40        no   \n",
       "4   546459  treatment          new                    4.75       yes   \n",
       "6   546448  treatment          new                    5.25       yes   \n",
       "8   546461  treatment          new                   10.71       yes   \n",
       "\n",
       "  language_preferred  \n",
       "1            English  \n",
       "2            Spanish  \n",
       "4            Spanish  \n",
       "6             French  \n",
       "8             French  "
      ]
     },
     "execution_count": 50,
     "metadata": {},
     "output_type": "execute_result"
    }
   ],
   "source": [
    "#dataframe created for user details with new landing page\n",
    "df_newpage.head()"
   ]
  },
  {
   "cell_type": "code",
   "execution_count": 51,
   "id": "4689ba93",
   "metadata": {},
   "outputs": [
    {
     "data": {
      "text/plain": [
       "(50, 6)"
      ]
     },
     "execution_count": 51,
     "metadata": {},
     "output_type": "execute_result"
    }
   ],
   "source": [
    "df_newpage.shape"
   ]
  },
  {
   "cell_type": "code",
   "execution_count": 52,
   "id": "4a2840cb",
   "metadata": {
    "scrolled": true
   },
   "outputs": [
    {
     "data": {
      "text/plain": [
       "<AxesSubplot:xlabel='language_preferred', ylabel='time_spent_on_the_page'>"
      ]
     },
     "execution_count": 52,
     "metadata": {},
     "output_type": "execute_result"
    },
    {
     "data": {
      "image/png": "[encoded data removed]",
      "text/plain": [
       "<Figure size 432x288 with 1 Axes>"
      ]
     },
     "metadata": {
      "needs_background": "light"
     },
     "output_type": "display_data"
    }
   ],
   "source": [
    "#Box plot to identify the Mean Time Spent on the New page, for each of the langauges preferred\n",
    "sns.boxplot(data=df_newpage,x='language_preferred',y='time_spent_on_the_page',showmeans=True)"
   ]
  },
  {
   "cell_type": "markdown",
   "id": "b798abc8",
   "metadata": {},
   "source": [
    "From the plot, for the sample data it is evident that the Mean value of time spent on the New landing page is almost the same for the 3 langauges preferred; not a considerable difference."
   ]
  },
  {
   "cell_type": "code",
   "execution_count": 53,
   "id": "681eed18",
   "metadata": {},
   "outputs": [
    {
     "name": "stdout",
     "output_type": "stream",
     "text": [
      "Avg time spent on the new page for English: 6.664\n",
      "Avg time spent on the new page for French: 6.196\n",
      "Avg time spent on the new page for Spanish: 5.835\n"
     ]
    }
   ],
   "source": [
    "mean_english=df_newpage.loc[df_newpage['language_preferred']=='English']['time_spent_on_the_page'].mean()\n",
    "mean_spanish=df_newpage.loc[df_newpage['language_preferred']=='Spanish']['time_spent_on_the_page'].mean()\n",
    "mean_french=df_newpage.loc[df_newpage['language_preferred']=='French']['time_spent_on_the_page'].mean()\n",
    "print('Avg time spent on the new page for English:', round(mean_english,3))\n",
    "print('Avg time spent on the new page for French:', round(mean_french,3))\n",
    "print('Avg time spent on the new page for Spanish:', round(mean_spanish,3))  "
   ]
  },
  {
   "cell_type": "markdown",
   "id": "dc3a0f36",
   "metadata": {},
   "source": [
    "We will find if Mean values are the same or not, using Hypothesis testing."
   ]
  },
  {
   "cell_type": "markdown",
   "id": "85e0953c",
   "metadata": {},
   "source": [
    "## Analysis of Variance ANOVA test"
   ]
  },
  {
   "cell_type": "markdown",
   "id": "69e071bf",
   "metadata": {},
   "source": [
    "## Lets define null and alternate hypotheses"
   ]
  },
  {
   "cell_type": "markdown",
   "id": "bf517e36",
   "metadata": {},
   "source": [
    "$H_0$ : The mean time spent on the new page for different language users is equal.\n",
    "\n",
    "$H_a$ : At least one of the mean time spent on the new page for the three diferent language users is different."
   ]
  },
  {
   "cell_type": "markdown",
   "id": "d86ba8b4",
   "metadata": {},
   "source": [
    "## Selecting Appropriate test"
   ]
  },
  {
   "cell_type": "markdown",
   "id": "845ed34b",
   "metadata": {},
   "source": [
    "This is a problem, concerning three population means. One-way ANOVA could be the appropriate test here provided normality and equality of variance assumptions are verified.\n",
    "\n",
    "* For testing of normality, Shapiro-Wilk’s test is applied to the response variable.\n",
    "\n",
    "* For equality of variance, Levene test is applied to the response variable."
   ]
  },
  {
   "cell_type": "markdown",
   "id": "d45d88ff",
   "metadata": {},
   "source": [
    "### Shapiro-Wilk’s test\n",
    "\n",
    "We will test the null hypothesis\n",
    "\n",
    ">$H_0:$ The time spent follow a normal distribution\n",
    "\n",
    "against the alternative hypothesis\n",
    "\n",
    ">$H_a:$ The time spent do not not follow a normal distribution"
   ]
  },
  {
   "cell_type": "code",
   "execution_count": 54,
   "id": "e0b443d0",
   "metadata": {},
   "outputs": [
    {
     "name": "stdout",
     "output_type": "stream",
     "text": [
      "The p-value is 0.8040016293525696\n"
     ]
    }
   ],
   "source": [
    "# Assumption 1: Normality\n",
    "# Use the shapiro function for the scipy.stats library for this test\n",
    "\n",
    "# find the p-value\n",
    "w, p_value = stats.shapiro(df_newpage['time_spent_on_the_page']) \n",
    "print('The p-value is', p_value)"
   ]
  },
  {
   "cell_type": "markdown",
   "id": "8ec2201b",
   "metadata": {},
   "source": [
    "Since p-value of the test is very large than the 5% significance level, we fail to reject the null hypothesis that the response follows the normal distribution."
   ]
  },
  {
   "cell_type": "markdown",
   "id": "a4af02b9",
   "metadata": {},
   "source": [
    "### Levene’s test\n",
    "\n",
    "We will test the null hypothesis\n",
    "\n",
    ">$H_0$: All the population variances are equal\n",
    "\n",
    "against the alternative hypothesis\n",
    "\n",
    ">$H_a$: At least one variance is different from the rest"
   ]
  },
  {
   "cell_type": "code",
   "execution_count": 55,
   "id": "513612df",
   "metadata": {},
   "outputs": [
    {
     "name": "stdout",
     "output_type": "stream",
     "text": [
      "The p-value is 0.46711357711340173\n"
     ]
    }
   ],
   "source": [
    "#Assumption 2: Homogeneity of Variance\n",
    "# use levene function from scipy.stats library for this test\n",
    "\n",
    "# find the p-value\n",
    "statistic, p_value = stats.levene(df_newpage[df_newpage['language_preferred']=='English']['time_spent_on_the_page'],\n",
    "                            df_newpage[df_newpage['language_preferred']=='Spanish']['time_spent_on_the_page'],\n",
    "                            df_newpage[df_newpage['language_preferred']=='French']['time_spent_on_the_page'])\n",
    "print('The p-value is', p_value)"
   ]
  },
  {
   "cell_type": "markdown",
   "id": "9a001705",
   "metadata": {},
   "source": [
    "Since the p-value is large than the 5% significance level, we fail to reject the null hypothesis of homogeneity of variances."
   ]
  },
  {
   "cell_type": "markdown",
   "id": "6e6a54bd",
   "metadata": {},
   "source": [
    "## Deciding the significance level"
   ]
  },
  {
   "cell_type": "markdown",
   "id": "ebaee623",
   "metadata": {},
   "source": [
    "As given in the problem statement, we select α = 0.05."
   ]
  },
  {
   "cell_type": "markdown",
   "id": "06941276",
   "metadata": {},
   "source": [
    "## Collection and preparation of data"
   ]
  },
  {
   "cell_type": "code",
   "execution_count": 56,
   "id": "5cfe08c9",
   "metadata": {},
   "outputs": [],
   "source": [
    "# separate the weightlosses with respect to the three diet-plans\n",
    "timespent_English = df_newpage[df_newpage['language_preferred']=='English']['time_spent_on_the_page']\n",
    "timespent_French = df_newpage[df_newpage['language_preferred']=='French']['time_spent_on_the_page']\n",
    "timespent_Spanish = df_newpage[df_newpage['language_preferred']=='Spanish']['time_spent_on_the_page']"
   ]
  },
  {
   "cell_type": "markdown",
   "id": "7a3358d7",
   "metadata": {},
   "source": [
    "## Calculating the p-value"
   ]
  },
  {
   "cell_type": "code",
   "execution_count": 57,
   "id": "4df948f4",
   "metadata": {
    "ExecuteTime": {
     "end_time": "2020-05-06T07:31:40.967079Z",
     "start_time": "2020-05-06T07:31:40.922403Z"
    }
   },
   "outputs": [
    {
     "name": "stdout",
     "output_type": "stream",
     "text": [
      "The p-value is  0.43204138694325955\n"
     ]
    }
   ],
   "source": [
    "#import the required function\n",
    "from scipy.stats import f_oneway\n",
    "\n",
    "# perform one-way anova test using the f_oneway function from scipy.stats library\n",
    "test_stat, p_value = stats.f_oneway(timespent_English, timespent_French, timespent_Spanish)\n",
    "print('The p-value is ', p_value)"
   ]
  },
  {
   "cell_type": "markdown",
   "id": "15e08264",
   "metadata": {},
   "source": [
    "## Comparing the p-value with $\\alpha$"
   ]
  },
  {
   "cell_type": "code",
   "execution_count": 58,
   "id": "6178e0e9",
   "metadata": {},
   "outputs": [
    {
     "name": "stdout",
     "output_type": "stream",
     "text": [
      "As the p-value 0.43204138694325955 is greater than the level of significance, we fail to reject the null hypothesis.\n"
     ]
    }
   ],
   "source": [
    "# print the conclusion based on p-value\n",
    "if p_value < 0.05:\n",
    "    print(f'As the p-value {p_value} is less than the level of significance, we reject the null hypothesis.')\n",
    "else:\n",
    "    print(f'As the p-value {p_value} is greater than the level of significance, we fail to reject the null hypothesis.')"
   ]
  },
  {
   "cell_type": "markdown",
   "id": "a30fcbe5",
   "metadata": {},
   "source": [
    "## Inference"
   ]
  },
  {
   "cell_type": "markdown",
   "id": "09b26599",
   "metadata": {},
   "source": [
    "Since the p-value is greater than the 5% significance level, we fail to reject the null hypothesis. Hence, we don't have enough statistical evidence to conclude that significant difference exists between the means of time spent of new page for the different language users.\n",
    "\n",
    "Time spent on the new page doesn't show a significant dependency on language preferred."
   ]
  },
  {
   "cell_type": "markdown",
   "id": "315558ba",
   "metadata": {
    "id": "lb7fV6waiIb8"
   },
   "source": [
    "### Multiple Comparison test (Tukey HSD)"
   ]
  },
  {
   "cell_type": "markdown",
   "id": "1a8a544f",
   "metadata": {},
   "source": [
    "\n",
    "A multi comparison test to verify if mean time spent on new page is different for the 3 langauges, \n",
    "the null hypothesis is\n",
    "\n",
    "  > $𝐻_0: 𝜇_1=𝜇_2 \\text{ and } 𝜇_1=𝜇_3 \\text{ and } 𝜇_2=𝜇_3$\n",
    "\n",
    "against the alternative hypothesis\n",
    "\n",
    " > $𝐻_a: 𝜇_1\\neq𝜇_2 \\text{ or } 𝜇_1\\neq𝜇_3 \\text{ or } 𝜇_2\\neq𝜇_3$"
   ]
  },
  {
   "cell_type": "code",
   "execution_count": 59,
   "id": "d69d4925",
   "metadata": {},
   "outputs": [
    {
     "name": "stdout",
     "output_type": "stream",
     "text": [
      " Multiple Comparison of Means - Tukey HSD, FWER=0.05 \n",
      "=====================================================\n",
      " group1  group2 meandiff p-adj   lower  upper  reject\n",
      "-----------------------------------------------------\n",
      "English  French  -0.4673 0.7259 -2.0035  1.069  False\n",
      "English Spanish  -0.8285  0.401 -2.3647 0.7078  False\n",
      " French Spanish  -0.3612  0.816  -1.874 1.1516  False\n",
      "-----------------------------------------------------\n"
     ]
    }
   ],
   "source": [
    "#import the required function\n",
    "from statsmodels.stats.multicomp import pairwise_tukeyhsd\n",
    "\n",
    "# perform multiple pairwise comparison (Tukey HSD)\n",
    "m_comp = pairwise_tukeyhsd(endog = df_newpage['time_spent_on_the_page'], groups = df_newpage['language_preferred'], alpha = 0.05)\n",
    "print(m_comp)"
   ]
  },
  {
   "cell_type": "markdown",
   "id": "efa46954",
   "metadata": {},
   "source": [
    "The multi comparison Tukey HSD test also shows that there is no significant difference between means of the time spent for the 3 languages."
   ]
  },
  {
   "cell_type": "markdown",
   "id": "0680954a",
   "metadata": {},
   "source": [
    "# Conclusion:\n",
    "* A dataset of E-news Express details were analyzed, which contained a total of 100 observations with 6 data attributes. The data had details of 2 user groups Control and Treatment who were served old and new landing pages, respectively. There were attributes like time spent on the page by users, their conversion status to Subscribers and their language preference. The objective of the analysis was to understand the trend of data and determine if the new landing page is attracting more users to become Subscribers of the news portal.\n",
    "\n",
    "\n",
    "* From the statistical analysis of the data, the users who were served the new landing page have majorly converted to Subscribers and spent more time on the page. So, the features introduced in the new landing page did attract more users and can be a good reason for Business improvement.\n",
    "\n",
    "\n",
    "* The Language preference of the users is not really having any impact on the time spent on the page or the converted status of the users.\n"
   ]
  },
  {
   "cell_type": "markdown",
   "id": "91148478",
   "metadata": {},
   "source": [
    "# Recommendations:\n",
    "\n",
    "\n",
    "* In addition to acquiring new subscribers, it is important to hold the existing subscribers. Some user specific features could be introduced like Live updates of breaking news, specific news corner based on users’ interest (from their past browsing history).\n",
    "\n",
    "\n",
    "* It is advisable to monitor users’ clickstream data on the landing page for a period of time and then analyze if the users would be interested in a specific feature and then can be introduced.\n",
    "\n",
    "\n",
    "* Users who spend more time on the page majorly Subscribed to the news portal; so it is recommended to catch users' attention with most accurate and live news with all possible video clips and images."
   ]
  },
  {
   "cell_type": "markdown",
   "id": "a1e0272e",
   "metadata": {},
   "source": [
    "# Further Analysis:\n",
    "* There was not enough detail mentioned in this dataset as to which specific feature was introduced in the new landing page, may be a further analysis is possible if there were other attributes available that can improve users to get converted to Subscribers. \n",
    "\n",
    "\n",
    "* Users look for accuracy of data on the news portal and the most live updates. So, attributes identifying how accurate the data is and how timely the news is been posted on the portal could be good data points for further analysis and Business improvement. \n"
   ]
  }
 ],
 "metadata": {
  "kernelspec": {
   "display_name": "Python 3",
   "language": "python",
   "name": "python3"
  },
  "language_info": {
   "codemirror_mode": {
    "name": "ipython",
    "version": 3
   },
   "file_extension": ".py",
   "mimetype": "text/x-python",
   "name": "python",
   "nbconvert_exporter": "python",
   "pygments_lexer": "ipython3",
   "version": "3.8.8"
  }
 },
 "nbformat": 4,
 "nbformat_minor": 5
}
